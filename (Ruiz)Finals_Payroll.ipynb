{
  "nbformat": 4,
  "nbformat_minor": 0,
  "metadata": {
    "colab": {
      "provenance": [],
      "authorship_tag": "ABX9TyOUJirBev5dXyFiD4OJbHJX",
      "include_colab_link": true
    },
    "kernelspec": {
      "name": "python3",
      "display_name": "Python 3"
    },
    "language_info": {
      "name": "python"
    }
  },
  "cells": [
    {
      "cell_type": "markdown",
      "metadata": {
        "id": "view-in-github",
        "colab_type": "text"
      },
      "source": [
        "<a href=\"https://colab.research.google.com/github/lvrjeno/python-lessons/blob/main/(Ruiz)Finals_Payroll.ipynb\" target=\"_parent\"><img src=\"https://colab.research.google.com/assets/colab-badge.svg\" alt=\"Open In Colab\"/></a>"
      ]
    },
    {
      "cell_type": "code",
      "source": [
        "class Employee:\n",
        "\n",
        "  def __init__(self):\n",
        "    self.name = \" \"\n",
        "    self.address = \" \"\n",
        "\n",
        "  def setName(self):\n",
        "    self.name = input(\"Enter name: \")\n",
        "\n",
        "  def setAddress(self):\n",
        "    self.address = input(\"Enter address: \")\n",
        "\n",
        "  def getName(self):\n",
        "    return self.name\n",
        "\n",
        "  def getAddress(self):\n",
        "    return self.address"
      ],
      "metadata": {
        "id": "1QlvuisiLOGT"
      },
      "execution_count": null,
      "outputs": []
    },
    {
      "cell_type": "code",
      "source": [
        "class Payroll(Employee):\n",
        "\n",
        "  def __init__(self):\n",
        "    Employee.__init__(self)\n",
        "    self.rate = 0\n",
        "    self.hours = 0\n",
        "    self.salary = 0\n",
        "    self.overtimePay = 0\n",
        "\n",
        "  def setRate(self):\n",
        "    self.rate = float(input(\"Rate per hour: \"))\n",
        "\n",
        "  def setHours(self):\n",
        "    self.hours = float(input(\"Hours worked: \"))\n",
        "\n",
        "  def calcSalary(self):\n",
        "    self.salary = self.rate * self.hours + self.overtimePay\n",
        "\n",
        "  def calcOvertimePay(self):\n",
        "    if self.hours > 40:\n",
        "      self.overtimePay = (self.hours - 40) * (0.10 * self.rate)\n",
        "    else:\n",
        "      self.overtimePay = 0\n",
        "\n",
        "  def employeeDetails(self):\n",
        "    self.setName()\n",
        "    self.setAddress()\n",
        "    self.setRate()\n",
        "    self.setHours()\n",
        "\n",
        "  def printSalary(self):\n",
        "    self.employeeDetails()\n",
        "    self.calcSalary()\n",
        "    self.calcOvertimePay()\n",
        "    print(\"Salary: \", self.salary)\n",
        "\n",
        "  def getRate(self):\n",
        "    return self.rate\n",
        "\n",
        "  def getHours(self):\n",
        "    return self.hours\n",
        "\n",
        "  def getSalary(self):\n",
        "    self.calcSalary()\n",
        "    return self.salary\n",
        "\n",
        "  def getOvertimePay(self):\n",
        "    self.calcOvertimePay()\n",
        "    return self.overtimePay"
      ],
      "metadata": {
        "id": "HDQjfOWsL4u9"
      },
      "execution_count": null,
      "outputs": []
    },
    {
      "cell_type": "code",
      "source": [
        "employee = Payroll()\n",
        "\n",
        "employee.printSalary()"
      ],
      "metadata": {
        "colab": {
          "base_uri": "https://localhost:8080/"
        },
        "id": "qpwJypemfbR-",
        "outputId": "38845db1-870c-4899-9801-2819b79b7cf1"
      },
      "execution_count": null,
      "outputs": [
        {
          "output_type": "stream",
          "name": "stdout",
          "text": [
            "Enter name: Jake\n",
            "Enter address: Jaro\n",
            "Rate per hour: 50.00\n",
            "Hours worked: 30\n",
            "Salary:  1500.0\n"
          ]
        }
      ]
    }
  ]
}