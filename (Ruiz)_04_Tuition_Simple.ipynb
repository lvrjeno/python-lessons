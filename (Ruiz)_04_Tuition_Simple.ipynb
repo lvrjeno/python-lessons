{
  "nbformat": 4,
  "nbformat_minor": 0,
  "metadata": {
    "colab": {
      "provenance": [],
      "authorship_tag": "ABX9TyOGh5DROs2SDwLgFRRCmFhL",
      "include_colab_link": true
    },
    "kernelspec": {
      "name": "python3",
      "display_name": "Python 3"
    },
    "language_info": {
      "name": "python"
    }
  },
  "cells": [
    {
      "cell_type": "markdown",
      "metadata": {
        "id": "view-in-github",
        "colab_type": "text"
      },
      "source": [
        "<a href=\"https://colab.research.google.com/github/lvrjeno/python-lessons/blob/main/(Ruiz)_04_Tuition_Simple.ipynb\" target=\"_parent\"><img src=\"https://colab.research.google.com/assets/colab-badge.svg\" alt=\"Open In Colab\"/></a>"
      ]
    },
    {
      "cell_type": "code",
      "execution_count": null,
      "metadata": {
        "id": "JkfopKFuQYMR"
      },
      "outputs": [],
      "source": [
        "class Student:\n",
        "\n",
        "  def __init__(self):\n",
        "    self.firstName = \" \"\n",
        "    self.secondname = \" \"\n",
        "    self.course = \" \"\n",
        "    self.age = 0\n",
        "    self.units = 0\n",
        "    self.unitTuition = 0\n",
        "    self.totalTuition = 0\n",
        "\n",
        "  def setFirstName(self):\n",
        "    self.firstName = input(\"Enter first name: \")\n",
        "\n",
        "  def setLastName(self):\n",
        "    self.lastName = input(\"Enter last name: \")\n",
        "\n",
        "  def setCourse(self):\n",
        "    self.course = input(\"Enter course: \")\n",
        "\n",
        "  def setAge(self):\n",
        "    self.age = int(input(\"Enter age: \"))\n",
        "\n",
        "  def setUnits(self):\n",
        "    self.units = int(input(\"Enter the no. of units enrolled: \"))\n",
        "\n",
        "  def setUnitTuition(self):\n",
        "    self.unitTuition = int(input(\"Tuition fee per unit: \"))\n",
        "\n",
        "  def getFirstName(self):\n",
        "    return self.firstName\n",
        "\n",
        "  def getLastName(self):\n",
        "    return self.lastName\n",
        "\n",
        "  def getCourse(self):\n",
        "    return self.course\n",
        "\n",
        "  def getAge(self):\n",
        "    return self.age\n",
        "\n",
        "  def getUnits(self):\n",
        "    return self.units\n",
        "\n",
        "  def getUnitTuition(self):\n",
        "    return self.unitTuition\n"
      ]
    },
    {
      "cell_type": "code",
      "source": [
        "class Freshman(Student):\n",
        "  def __init__(self):\n",
        "    Student.__init__(self)\n",
        "    self.entranceDiscount = 0\n",
        "\n",
        "  def setEntranceDiscount(self):\n",
        "    self.entranceDiscount = float(input(\"Entrance discount: \"))\n",
        "\n",
        "  def calcFreshmanTotalTuition(self):\n",
        "    self.totalTuition = (self.units * self.unitTuition) - self.entranceDiscount\n",
        "\n",
        "  def inputFreshmanData(self):\n",
        "    self.setFirstName()\n",
        "    self.setLastName()\n",
        "    self.setCourse()\n",
        "    self.setAge()\n",
        "    self.setUnits()\n",
        "    self.setUnitTuition()\n",
        "    self.setEntranceDiscount()\n",
        "\n",
        "  def printFreshmanInformation(self):\n",
        "    self.inputFreshmanData()\n",
        "    self.calcFreshmanTotalTuition()\n",
        "    print(\"The total tuition of\", self.firstName.capitalize(), self.lastName.capitalize(), \"is\", self.totalTuition)\n",
        "\n",
        "  def getEntranceDiscount(self):\n",
        "    return self.entranceDiscount\n",
        "\n",
        "  def getTotalTuition(self):\n",
        "    self.calcFreshmanTotalTuition()\n",
        "    return self.totalTuition"
      ],
      "metadata": {
        "id": "YNzFqugOSx7y"
      },
      "execution_count": null,
      "outputs": []
    },
    {
      "cell_type": "code",
      "source": [
        "class Sophomore(Student):\n",
        "\n",
        "  def __init__(self):\n",
        "    Student.__init__(self)\n",
        "    self.meritUnits = 0\n",
        "    self.scholarship = 0\n",
        "    self.sophomoreTuition = 0\n",
        "\n",
        "  def setMeritUnits(self):\n",
        "    self.meritUnits = int(input(\"Merit Units: \"))\n",
        "\n",
        "  def setScholarship(self):\n",
        "    self.scholarship = float(input(\"Scholarship Discount: \"))\n",
        "\n",
        "  def calcSophomoreTuition(self):\n",
        "    self.sophomoreTuition = ((self.units - self.meritUnits) * self.unitTuition) - self.scholarship\n",
        "\n",
        "  def getMeritUnits(self):\n",
        "    return self.meritUnits\n",
        "\n",
        "  def sophomoreInformation(self):\n",
        "    self.setFirstName()\n",
        "    self.setLastName()\n",
        "    self.setCourse()\n",
        "    self.setAge()\n",
        "    self.setUnits()\n",
        "    self.setUnitTuition()\n",
        "    self.setMeritUnits()\n",
        "    self.setScholarship()\n",
        "\n",
        "  def printSophomoreInformation(self):\n",
        "    self.sophomoreInformation()\n",
        "    self.calcSophomoreTuition()\n",
        "    print(\"The total tuition of\", self.firstName.capitalize(), self.lastName.capitalize(), \"is\", self.totalTuition)\n",
        "\n",
        "  def getScholarship(self):\n",
        "    return self.scholarship\n",
        "\n",
        "  def getSophomoreTuition(self):\n",
        "    self.calcSophomoreTuition()\n",
        "    return self.sophomoreTuition"
      ],
      "metadata": {
        "id": "8ca7fZR5WM-m"
      },
      "execution_count": null,
      "outputs": []
    },
    {
      "cell_type": "code",
      "source": [
        "john = Freshman()\n",
        "\n",
        "john.printFreshmanInformation()"
      ],
      "metadata": {
        "colab": {
          "base_uri": "https://localhost:8080/"
        },
        "id": "dBDDrTGCWeu6",
        "outputId": "6ff28b9d-d967-40a2-b1d9-8516ca3a52f5"
      },
      "execution_count": null,
      "outputs": [
        {
          "output_type": "stream",
          "name": "stdout",
          "text": [
            "Enter first name: john\n",
            "Enter last name: cruz\n",
            "Enter course: bsit\n",
            "Enter age: 18\n",
            "Enter the no. of units enrolled: 20\n",
            "Tuition fee per unit: 600\n",
            "Entrance discount: 5000\n",
            "The total tuition of John Cruz is 7000.0\n"
          ]
        }
      ]
    },
    {
      "cell_type": "code",
      "source": [
        "juana = Sophomore()\n",
        "\n",
        "juana.printSophomoreInformation()"
      ],
      "metadata": {
        "colab": {
          "base_uri": "https://localhost:8080/"
        },
        "id": "p77xoReApd1g",
        "outputId": "059ebfe9-b31c-4d7f-f41e-bcd22e80d815"
      },
      "execution_count": null,
      "outputs": [
        {
          "output_type": "stream",
          "name": "stdout",
          "text": [
            "Enter first name: juana\n",
            "Enter last name: pescar\n",
            "Enter course: bscs\n",
            "Enter age: 19\n",
            "Enter the no. of units enrolled: 24\n",
            "Tuition fee per unit: 750\n",
            "Merit Units: 6\n",
            "Scholarship Discount: 10000\n",
            "The total tuition of Juana Pescar is 0\n"
          ]
        }
      ]
    }
  ]
}