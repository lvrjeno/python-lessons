{
  "nbformat": 4,
  "nbformat_minor": 0,
  "metadata": {
    "colab": {
      "provenance": [],
      "authorship_tag": "ABX9TyNNwsNJrnwo8eRmqdrJBh9g",
      "include_colab_link": true
    },
    "kernelspec": {
      "name": "python3",
      "display_name": "Python 3"
    },
    "language_info": {
      "name": "python"
    }
  },
  "cells": [
    {
      "cell_type": "markdown",
      "metadata": {
        "id": "view-in-github",
        "colab_type": "text"
      },
      "source": [
        "<a href=\"https://colab.research.google.com/github/lvrjeno/python-lessons/blob/main/04_Cylinder(Ruiz).ipynb\" target=\"_parent\"><img src=\"https://colab.research.google.com/assets/colab-badge.svg\" alt=\"Open In Colab\"/></a>"
      ]
    },
    {
      "cell_type": "code",
      "source": [
        "import math\n",
        "\n",
        "class Circle:\n",
        "\n",
        "  def __init__(self):\n",
        "    self.radius = 0\n",
        "    self.area = 0\n",
        "\n",
        "  def setRadius(self):\n",
        "    self.radius = float(input(\"Enter the radius: \"))\n",
        "\n",
        "  def calcArea(self):\n",
        "    self.area = math.pi * self.radius * self.radius\n",
        "\n",
        "  def calcCircumference(self):\n",
        "    self.circumference = 2 * math.pi * self.radius\n",
        "\n",
        "  def getRadius(self):\n",
        "    return self.radius\n",
        "\n",
        "  def getArea(self):\n",
        "    self.calcArea()\n",
        "    return self.area\n",
        "\n",
        "  def getCircumference(self):\n",
        "    self.calcCircumference()\n",
        "    return self.circumference"
      ],
      "metadata": {
        "id": "LeDiuRiATaBD"
      },
      "execution_count": null,
      "outputs": []
    },
    {
      "cell_type": "code",
      "execution_count": null,
      "metadata": {
        "id": "MAM7hSudRiVM"
      },
      "outputs": [],
      "source": [
        "class Cylinder(Circle):\n",
        "\n",
        "  def __init__(self):\n",
        "    Circle.__init__(self)\n",
        "    self.height = 0\n",
        "    self.volume = 0\n",
        "\n",
        "  def setHeight(self):\n",
        "    self.height = float(input(\"Enter the height: \"))\n",
        "\n",
        "  def calcVolume(self):\n",
        "    self.volume = self.getArea() * self.height\n",
        "\n",
        "  def getHeight(self):\n",
        "    return self.height\n",
        "\n",
        "  def getVolume(self):\n",
        "    self.calcVolume()\n",
        "    return self.volume\n",
        "\n",
        "  def printResults(self):\n",
        "    self.setRadius()\n",
        "    self.setHeight()\n",
        "    self.calcVolume()\n",
        "    print(\"The volume of the cylinder is: \", round(self.volume, 2))"
      ]
    },
    {
      "cell_type": "code",
      "source": [
        "c1 = Cylinder()\n",
        "c1.printResults()"
      ],
      "metadata": {
        "colab": {
          "base_uri": "https://localhost:8080/"
        },
        "id": "FsAOEiCGZmYS",
        "outputId": "e658c2ad-b0c0-44e8-d25b-c36e8161fb86"
      },
      "execution_count": null,
      "outputs": [
        {
          "output_type": "stream",
          "name": "stdout",
          "text": [
            "Enter the radius: 23\n",
            "Enter the height: 21\n",
            "The volume of the cylinder is:  34899.95\n"
          ]
        }
      ]
    }
  ]
}