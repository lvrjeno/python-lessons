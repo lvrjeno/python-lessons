{
  "nbformat": 4,
  "nbformat_minor": 0,
  "metadata": {
    "colab": {
      "provenance": [],
      "authorship_tag": "ABX9TyOvjOO4XzDI50SMjw0dr+88",
      "include_colab_link": true
    },
    "kernelspec": {
      "name": "python3",
      "display_name": "Python 3"
    },
    "language_info": {
      "name": "python"
    }
  },
  "cells": [
    {
      "cell_type": "markdown",
      "metadata": {
        "id": "view-in-github",
        "colab_type": "text"
      },
      "source": [
        "<a href=\"https://colab.research.google.com/github/lvrjeno/python-lessons/blob/main/05_Medicine.ipynb\" target=\"_parent\"><img src=\"https://colab.research.google.com/assets/colab-badge.svg\" alt=\"Open In Colab\"/></a>"
      ]
    },
    {
      "cell_type": "markdown",
      "source": [
        "Grose Pharmacy is one of the leading pharmacies in the country. Their business process, however, is a little bit different than the usual because they separate their store to their warehouse. Meaning, to re stock their store, it needs to act as a client to their warehouse: ordering medicines from them.\n",
        "\n",
        "First, the warehouse  enter the details per product. The order request of a store contains the following:\n",
        "\n",
        "Medicine Name\n",
        "\n",
        "Production Company\n",
        "\n",
        "Expiry Date\n",
        "\n",
        "Price Per Item\n",
        "\n",
        "Quantity\n",
        "\n",
        "Create a program for the warehouse that would allow the user to input an order request and calculate the total price of the order."
      ],
      "metadata": {
        "id": "OJWSNqH1lKVl"
      }
    },
    {
      "cell_type": "code",
      "execution_count": null,
      "metadata": {
        "id": "TXu68zTUVAzG"
      },
      "outputs": [],
      "source": [
        "class Medicine:\n",
        "\n",
        "  def __init__(self):\n",
        "    self.name = \" \"\n",
        "    self.company = \" \"\n",
        "    self.price = 0\n",
        "    self.totalOrder = 0\n",
        "\n",
        "  def setName(self):\n",
        "    self.name = input(\"Medicine Name: \")\n",
        "\n",
        "  def setCompany(self):\n",
        "    self.company = input(\"Production Company: \")\n",
        "\n",
        "  def setPrice(self):\n",
        "    self.price = float(input(\"Price per item: \"))\n",
        "\n",
        "  def getName(self):\n",
        "    return self.name\n",
        "\n",
        "  def getcompany(self):\n",
        "    return self.company\n",
        "\n",
        "  def getPrice(self):\n",
        "    return self.price"
      ]
    },
    {
      "cell_type": "code",
      "source": [
        "class Order(Medicine):\n",
        "\n",
        "  def __init__(self):\n",
        "    Medicine.__init__(self)\n",
        "    self.expiryDate = 0\n",
        "    self.quantity = 0\n",
        "\n",
        "  def setExpiryDate(self):\n",
        "    self.expiryDate = int(input(\"Expiry Date: \"))\n",
        "\n",
        "  def setQuantity(self):\n",
        "    self.quantity = float(input(\"Quantity: \"))\n",
        "\n",
        "  def calcTotalOrder(self):\n",
        "    self.totalOrder = self.price * self.quantity\n",
        "\n",
        "  def inputOrder(self):\n",
        "    self.setName()\n",
        "    self.setCompany()\n",
        "    self.setExpiryDate()\n",
        "    self.setPrice()\n",
        "    self.setQuantity()\n",
        "\n",
        "  def printOrder(self):\n",
        "    self.inputOrder()\n",
        "    self.calcTotalOrder()\n",
        "    print(\"Total Order of\", self.name.capitalize(), \"from\", self.company.capitalize(), \":\" , self.totalOrder)\n",
        "\n",
        "  def getExpiryDate(self):\n",
        "    return self.expiryDate\n",
        "\n",
        "  def getQuantity(self):\n",
        "    return self.quantity\n",
        "\n",
        "  def getTotalOrder(self):\n",
        "    self.calcTotalOrder()\n",
        "    return self.totalOrder\n"
      ],
      "metadata": {
        "id": "Yz5gUqykf7C7"
      },
      "execution_count": null,
      "outputs": []
    },
    {
      "cell_type": "code",
      "source": [
        "order1 = Order()\n",
        "\n",
        "order1.printOrder()"
      ],
      "metadata": {
        "colab": {
          "base_uri": "https://localhost:8080/"
        },
        "id": "q6cTLSjRiv55",
        "outputId": "703582da-661a-42b6-fc91-a73ad7c51d67"
      },
      "execution_count": null,
      "outputs": [
        {
          "output_type": "stream",
          "name": "stdout",
          "text": [
            "Medicine Name: biogesic\n",
            "Production Company: unilab\n",
            "Expiry Date: 5192020\n",
            "Price per item: 5\n",
            "Quantity: 20\n",
            "Total Order of Biogesic from Unilab : 100.0\n"
          ]
        }
      ]
    }
  ]
}